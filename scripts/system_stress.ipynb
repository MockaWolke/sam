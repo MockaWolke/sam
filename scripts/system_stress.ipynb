{
 "cells": [
  {
   "cell_type": "code",
   "execution_count": 1,
   "metadata": {},
   "outputs": [],
   "source": [
    "from sam import chdir_to_repopath\n",
    "chdir_to_repopath()\n",
    "\n",
    "from sam.stress_addition_model import (\n",
    "    sam_prediction,\n",
    "    get_sam_lcs,\n",
    "    OLD_STANDARD\n",
    ")\n",
    "import os\n",
    "from sam.dose_reponse_fit import dose_response_fit, ModelPredictions, FitSettings\n",
    "from sam.plotting import plot_fit_prediction\n",
    "\n",
    "from sam.plotting import plot_sam_prediction\n",
    "from sam.data_formats import load_datapoints, read_data, load_files\n",
    "from sam.system_stress import calc_system_stress\n",
    "from sam.helpers import detect_hormesis_index\n",
    "import matplotlib.pyplot as plt\n",
    "import pandas as pd\n",
    "from sam.plotting import *\n",
    "import argparse\n",
    "from tqdm import tqdm\n",
    "\n",
    "PLOT_PATH = \"control_imgs/sam_prediction\"\n",
    "SETTINGS = OLD_STANDARD"
   ]
  },
  {
   "cell_type": "code",
   "execution_count": 2,
   "metadata": {},
   "outputs": [],
   "source": [
    "def sys_plot(model, example, setting, hormesis_index):\n",
    "    cleaned_surv_func, system_stress_func = calc_system_stress(\n",
    "        example.main_series, hormesis_index=hormesis_index, cfg=setting\n",
    "    )\n",
    "\n",
    "    cleaned_surv = cleaned_surv_func(model.concentration_curve) \n",
    "    cleaned_stress = setting.survival_to_stress(cleaned_surv)\n",
    "    cleaned_surv *= example.meta.max_survival\n",
    "\n",
    "    system_stress = system_stress_func(model.concentration_curve)\n",
    "    system_surv = setting.stress_to_survival(system_stress) * example.meta.max_survival\n",
    "\n",
    "\n",
    "    # Create the plot\n",
    "    title = f\"{example.meta.chemical} - {example.meta.organism}\"\n",
    "\n",
    "    fig, axs = plt.subplots(2, 2, figsize=(10, 6))\n",
    "\n",
    "\n",
    "    def plot_surv(y, label, orig_series=None):\n",
    "        plot_survival(\n",
    "            model.concentration_curve,\n",
    "            y,\n",
    "            label = label,\n",
    "            ax=axs[0, 0],\n",
    "            orig_series=orig_series,\n",
    "            xscale=\"linear\",\n",
    "            show_legend=False,\n",
    "            xlab=None,\n",
    "            ylab=\"Survival\",\n",
    "            title=\"Survival\",\n",
    "            color = None,\n",
    "            hormesis_index=hormesis_index,\n",
    "        )\n",
    "\n",
    "        plot_survival(\n",
    "            model.concentration_curve,\n",
    "            y,\n",
    "            label = label,\n",
    "            ax=axs[1, 0],\n",
    "            orig_series=orig_series,\n",
    "            xscale=\"log\",\n",
    "            show_legend=False,\n",
    "            xlab=None,\n",
    "            ylab=\"Survival\",\n",
    "            color = None,\n",
    "            hormesis_index=hormesis_index,\n",
    "            title=\"Survival\",\n",
    "        )\n",
    "\n",
    "\n",
    "    plot_surv(model.survival_curve, label=\"measurment\", orig_series=model.inputs)\n",
    "    plot_surv(cleaned_surv, label=\"without hormesis\", orig_series=None)\n",
    "    plot_surv(system_surv, label=\"system\", orig_series=None)\n",
    "\n",
    "\n",
    "\n",
    "    def plot_str(y, label):\n",
    "        plot_stress(\n",
    "            model.concentration_curve,\n",
    "            y,\n",
    "            label=label,\n",
    "            ax=axs[0, 1],\n",
    "            xscale=\"linear\",\n",
    "            show_legend=False,\n",
    "            xlab=None,\n",
    "            ylab=\"Stress\",\n",
    "            title=\"Stress\",\n",
    "            color =None,\n",
    "        )\n",
    "\n",
    "        plot_stress(\n",
    "            model.concentration_curve,\n",
    "            y,\n",
    "            label=label,\n",
    "            ax=axs[1, 1],\n",
    "            xscale=\"log\",\n",
    "            show_legend=False,\n",
    "            xlab=None,\n",
    "            ylab=\"Stress\",\n",
    "            title=\"Stress\",\n",
    "            color =None,\n",
    "        )\n",
    "\n",
    "    plot_str(model.stress_curve, label=\"measurment\")\n",
    "    plot_str(cleaned_stress, label=\"without hormesis\")\n",
    "    plot_str(system_stress, label=\"system\")\n",
    "\n",
    "    axs[-1,-1].legend()\n",
    "\n",
    "    if title:\n",
    "        fig.suptitle(title)\n",
    "\n",
    "    plt.tight_layout()\n",
    "    return fig"
   ]
  },
  {
   "cell_type": "code",
   "execution_count": 3,
   "metadata": {},
   "outputs": [
    {
     "name": "stderr",
     "output_type": "stream",
     "text": [
      " 11%|█         | 2/18 [00:02<00:20,  1.27s/it]"
     ]
    },
    {
     "name": "stdout",
     "output_type": "stream",
     "text": [
      "Weibull 2-param fit failed, defaulting to linear regression\n",
      "Weibull 3-param fit failed, defaulting to linear regression\n"
     ]
    },
    {
     "name": "stderr",
     "output_type": "stream",
     "text": [
      " 17%|█▋        | 3/18 [00:04<00:21,  1.45s/it]"
     ]
    },
    {
     "name": "stdout",
     "output_type": "stream",
     "text": [
      "Weibull 3-param fit failed, defaulting to linear regression\n"
     ]
    },
    {
     "name": "stderr",
     "output_type": "stream",
     "text": [
      " 28%|██▊       | 5/18 [00:07<00:17,  1.38s/it]"
     ]
    },
    {
     "name": "stdout",
     "output_type": "stream",
     "text": [
      "Weibull 3-param fit failed, defaulting to linear regression\n"
     ]
    },
    {
     "name": "stderr",
     "output_type": "stream",
     "text": [
      " 50%|█████     | 9/18 [00:12<00:11,  1.27s/it]"
     ]
    },
    {
     "name": "stdout",
     "output_type": "stream",
     "text": [
      "Weibull 3-param fit failed, defaulting to linear regression\n"
     ]
    },
    {
     "name": "stderr",
     "output_type": "stream",
     "text": [
      " 56%|█████▌    | 10/18 [00:13<00:10,  1.26s/it]"
     ]
    },
    {
     "name": "stdout",
     "output_type": "stream",
     "text": [
      "Weibull 3-param fit failed, defaulting to linear regression\n"
     ]
    },
    {
     "name": "stderr",
     "output_type": "stream",
     "text": [
      " 61%|██████    | 11/18 [00:14<00:09,  1.35s/it]"
     ]
    },
    {
     "name": "stdout",
     "output_type": "stream",
     "text": [
      "Weibull 3-param fit failed, defaulting to linear regression\n"
     ]
    },
    {
     "name": "stderr",
     "output_type": "stream",
     "text": [
      " 94%|█████████▍| 17/18 [00:21<00:01,  1.20s/it]"
     ]
    },
    {
     "name": "stdout",
     "output_type": "stream",
     "text": [
      "Weibull 3-param fit failed, defaulting to linear regression\n"
     ]
    },
    {
     "name": "stderr",
     "output_type": "stream",
     "text": [
      "100%|██████████| 18/18 [00:23<00:00,  1.29s/it]\n"
     ]
    }
   ],
   "source": [
    "save_dir = \"control_imgs/hormesis_and_sys\"\n",
    "\n",
    "for path, data in tqdm(load_files()):\n",
    "    setting = FitSettings(survival_max=data.meta.max_survival)\n",
    "\n",
    "    model: ModelPredictions = dose_response_fit(\n",
    "        data.main_series,\n",
    "    )\n",
    "\n",
    "    hormesis_index = detect_hormesis_index(data.main_series.survival_rate, tolerance=0.02)\n",
    "\n",
    "        \n",
    "    if hormesis_index is not None:\n",
    "        fig = sys_plot(model, data, setting, hormesis_index)    \n",
    "\n",
    "    else:\n",
    "        title = f\"{data.meta.chemical} - {data.meta.organism}\"\n",
    "        fig = plot_fit_prediction(model=model, title=title)\n",
    "\n",
    "    # Save the plot\n",
    "    save_path = os.path.join(save_dir, f\"{os.path.split(path.replace('xlsx', 'png'))[1]}\")\n",
    "    fig.savefig(save_path)\n",
    "    plt.close(fig)\n"
   ]
  },
  {
   "cell_type": "code",
   "execution_count": 5,
   "metadata": {},
   "outputs": [],
   "source": []
  },
  {
   "cell_type": "code",
   "execution_count": null,
   "metadata": {},
   "outputs": [],
   "source": []
  }
 ],
 "metadata": {
  "kernelspec": {
   "display_name": "sam",
   "language": "python",
   "name": "python3"
  },
  "language_info": {
   "codemirror_mode": {
    "name": "ipython",
    "version": 3
   },
   "file_extension": ".py",
   "mimetype": "text/x-python",
   "name": "python",
   "nbconvert_exporter": "python",
   "pygments_lexer": "ipython3",
   "version": "3.12.4"
  }
 },
 "nbformat": 4,
 "nbformat_minor": 2
}
