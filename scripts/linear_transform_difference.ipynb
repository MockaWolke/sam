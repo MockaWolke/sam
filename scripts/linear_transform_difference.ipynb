{
 "cells": [
  {
   "cell_type": "code",
   "execution_count": 5,
   "metadata": {},
   "outputs": [],
   "source": [
    "import os\n",
    "from sam import chdir_to_repopath\n",
    "\n",
    "chdir_to_repopath()\n",
    "from sam.dose_reponse_fit import ModelPredictions\n",
    "import pandas as pd\n",
    "import matplotlib.pyplot as plt\n",
    "from sam.data_formats import read_data, load_datapoints, ExperimentData\n",
    "import seaborn as sns\n",
    "from sam.stress_addition_model import (\n",
    "    OLD_STANDARD,\n",
    "    sam_prediction,\n",
    "    FitSettings,\n",
    "    dose_response_fit,\n",
    ")\n",
    "from sam.transforms import Transforms"
   ]
  },
  {
   "cell_type": "code",
   "execution_count": 6,
   "metadata": {},
   "outputs": [],
   "source": [
    "def generate_settings(data: ExperimentData, transform: Transforms):\n",
    "    return FitSettings(\n",
    "        survival_max=data.meta.max_survival,\n",
    "        param_d_norm=True,\n",
    "        stress_to_survival=OLD_STANDARD.stress_to_survival,\n",
    "        survival_to_stress=OLD_STANDARD.survival_to_stress,\n",
    "        transform=transform,\n",
    "    )"
   ]
  },
  {
   "cell_type": "code",
   "execution_count": 8,
   "metadata": {},
   "outputs": [],
   "source": [
    "for path, data, stress, ser in load_datapoints():\n",
    "    exp_name = os.path.split(path)[1].replace(\".xlsx\", \"\")\n",
    "\n",
    "    ten_points = dose_response_fit(\n",
    "        ser, generate_settings(data, Transforms.williams_and_linear_interpolation_old)\n",
    "    )\n",
    "    eleven_points = dose_response_fit(\n",
    "        ser, generate_settings(data, Transforms.williams_and_linear_interpolation)\n",
    "    )\n",
    "\n",
    "    title = f\"{exp_name}_{stress}\"\n",
    "\n",
    "    plt.scatter(\n",
    "        ten_points.inputs.concentration, ten_points.inputs.survival_rate, label=\"Data\"\n",
    "    )\n",
    "    plt.plot(\n",
    "        ten_points.concentration_curve, ten_points.survival_curve, label=\"10 Points\"\n",
    "    )\n",
    "    plt.plot(\n",
    "        eleven_points.concentration_curve,\n",
    "        eleven_points.survival_curve,\n",
    "        label=\"11 Points\",\n",
    "    )\n",
    "    plt.xscale(\"log\")\n",
    "    plt.legend()\n",
    "    plt.savefig(f\"control_imgs/difference_in_linear_transform/{title}.png\")\n",
    "    plt.close()"
   ]
  },
  {
   "cell_type": "code",
   "execution_count": 11,
   "metadata": {},
   "outputs": [],
   "source": [
    "import zipfile\n",
    "import os\n",
    "\n",
    "# List of interesting filenames\n",
    "interesting = [\n",
    "    \"naeem_Esfenvalerate_2019_Food_1% + Prochloraz_32\",\n",
    "    \"naeem_Esfenvalerate_2019_Food_1% + Prochloraz_100\",\n",
    "    \"ayesha-cloth_Clothianidin_2024_reference_pre-contamination_Temp_24\",\n",
    "    \"naeem_Mix13_2024_Food_1%\",\n",
    "    \"naeem_Mix13_2024_Temp_25 + Food_1%\",\n",
    "    \"liess_copper_2001_Food_1% + UV\",\n",
    "    \"naemm_Clothianidin_2024_reference_Temp_22 + Prochloraz_10\",\n",
    "    \"ayesha-cloth_Clothianidin_2024_agricultural_pre-contamination_Temp_24\",\n",
    "    \"huang_imidachloprid_2023_Temp_15\",\n",
    "]\n",
    "\n",
    "# Directory paths\n",
    "input_directory = \"control_imgs/difference_in_linear_transform/\"\n",
    "output_zip = \"zips/difference_in_linear_transform.zip\"\n",
    "\n",
    "# Create a zip file\n",
    "with zipfile.ZipFile(output_zip, \"w\") as z:\n",
    "    for file_name in interesting:\n",
    "        # Form the full file path for each file\n",
    "        file_path = os.path.join(input_directory, f\"{file_name}.png\")\n",
    "        # Check if the file exists before adding it\n",
    "        if os.path.exists(file_path):\n",
    "            z.write(file_path, os.path.basename(file_path))"
   ]
  },
  {
   "cell_type": "code",
   "execution_count": null,
   "metadata": {},
   "outputs": [],
   "source": []
  }
 ],
 "metadata": {
  "kernelspec": {
   "display_name": "sam",
   "language": "python",
   "name": "python3"
  },
  "language_info": {
   "codemirror_mode": {
    "name": "ipython",
    "version": 3
   },
   "file_extension": ".py",
   "mimetype": "text/x-python",
   "name": "python",
   "nbconvert_exporter": "python",
   "pygments_lexer": "ipython3",
   "version": "3.12.4"
  }
 },
 "nbformat": 4,
 "nbformat_minor": 2
}
