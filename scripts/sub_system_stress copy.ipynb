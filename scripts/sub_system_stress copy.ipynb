{
 "cells": [
  {
   "cell_type": "code",
   "execution_count": 1,
   "metadata": {},
   "outputs": [],
   "source": [
    "from sam import (\n",
    "    STANDARD_SAM_SETTING,\n",
    "    sam_prediction,\n",
    "    get_sam_lcs,\n",
    "    plot_sam_prediction,\n",
    "    load_datapoints,\n",
    "    read_data,\n",
    ")\n",
    "import matplotlib.pyplot as plt\n",
    "import pandas as pd\n",
    "from copy import deepcopy\n",
    "from pathlib import Path\n",
    "from sklearn.metrics import mean_squared_error\n",
    "from pathlib import Path\n",
    "import os\n",
    "\n",
    "os.chdir(\"..\")"
   ]
  },
  {
   "cell_type": "code",
   "execution_count": 2,
   "metadata": {},
   "outputs": [],
   "source": [
    "def pred_exp(data, val, new=False, hormesis_index=None, title=None):\n",
    "    settings = deepcopy(STANDARD_SAM_SETTING)\n",
    "    settings.cancel_system_stress = new\n",
    "\n",
    "    main_fit, stress_fit, sam_sur, sam_stress, additional_stress = sam_prediction(\n",
    "        data.main_series,\n",
    "        val,\n",
    "        data.meta,\n",
    "        settings=settings,\n",
    "        hormesis_index=hormesis_index,\n",
    "    )\n",
    "\n",
    "    lcs = get_sam_lcs(stress_fit=stress_fit, sam_sur=sam_sur, meta=data.meta)\n",
    "\n",
    "    fig = plot_sam_prediction(\n",
    "        main_fit,\n",
    "        stress_fit,\n",
    "        sam_sur,\n",
    "        sam_stress,\n",
    "        survival_max=data.meta.max_survival,\n",
    "        lcs=lcs,\n",
    "        title=title,\n",
    "    )\n",
    "    if new:\n",
    "        fig.axes[-1].plot(\n",
    "            main_fit.concentrations, main_fit.pred_system_stress, label=\"system\"\n",
    "        )\n",
    "        fig.axes[-1].legend()\n",
    "    return fig"
   ]
  },
  {
   "cell_type": "code",
   "execution_count": 5,
   "metadata": {},
   "outputs": [
    {
     "name": "stderr",
     "output_type": "stream",
     "text": [
      "/home/felix/Desktop/sam/src/sam/stress_addition_model.py:163: UserWarning: could not find hormesis index, detecting it to be None\n",
      "  warn(f\"could not find hormesis index, detecting it to be {hormesis_index}\")\n"
     ]
    },
    {
     "name": "stdout",
     "output_type": "stream",
     "text": [
      "Cant detect hormesis!\n",
      "Cant detect hormesis!\n",
      "Cant detect hormesis!\n",
      "Cant detect hormesis!\n",
      "Cant detect hormesis!\n",
      "Cant detect hormesis!\n",
      "Cant detect hormesis!\n",
      "Cant detect hormesis!\n",
      "Cant detect hormesis!\n"
     ]
    }
   ],
   "source": [
    "s = Path(\"control_imgs/sub_interesting\")\n",
    "\n",
    "failures = []\n",
    "\n",
    "for path, data, stress_name, stress_series in load_datapoints():\n",
    "    title = f\"{data.meta.title}_{stress_name}\"\n",
    "    new_dir = s / title\n",
    "\n",
    "    if new_dir.exists():\n",
    "        continue\n",
    "\n",
    "    try:\n",
    "        new = pred_exp(\n",
    "            data, stress_series, True, title=title, hormesis_index=data.hormesis_index\n",
    "        )\n",
    "        old = pred_exp(\n",
    "            data, stress_series, False, title=title, hormesis_index=data.hormesis_index\n",
    "        )\n",
    "\n",
    "        new_dir.mkdir(exist_ok=True, parents=True)\n",
    "        old.savefig(new_dir / \"normal.png\")\n",
    "        plt.close(old)\n",
    "\n",
    "        new.savefig(new_dir / \"without_sys.png\")\n",
    "        plt.close(new)\n",
    "    except Exception as e:\n",
    "        print(e)\n",
    "        failures.append(title)"
   ]
  },
  {
   "cell_type": "code",
   "execution_count": 8,
   "metadata": {},
   "outputs": [],
   "source": [
    "stress_name = \"Food_1% + Prochloraz_100\"\n",
    "stress_series = data.additional_stress[stress_name]\n",
    "\n",
    "\n",
    "title = f\"{data.meta.title}_{stress_name}\"\n",
    "s = Path(\"control_imgs/sub_interesting\")\n",
    "\n",
    "new_dir = s / title\n",
    "\n",
    "\n",
    "try:\n",
    "    new = pred_exp(\n",
    "        data, stress_series, True, title=title, hormesis_index=data.hormesis_index\n",
    "    )\n",
    "    old = pred_exp(\n",
    "        data, stress_series, False, title=title, hormesis_index=data.hormesis_index\n",
    "    )\n",
    "\n",
    "    new_dir.mkdir(exist_ok=True, parents=True)\n",
    "    old.savefig(new_dir / \"normal.png\")\n",
    "    plt.close(old)\n",
    "\n",
    "    new.savefig(new_dir / \"without_sys.png\")\n",
    "    plt.close(new)\n",
    "except Exception as e:\n",
    "    print(e)"
   ]
  },
  {
   "cell_type": "code",
   "execution_count": null,
   "metadata": {},
   "outputs": [],
   "source": [
    "stress_name = \"Prochloraz_100\"\n",
    "series = data.additional_stress[stress_name]\n",
    "new = True\n",
    "title = f\"{data.meta.title}_{stress_name}\"\n",
    "\n",
    "\n",
    "settings = deepcopy(STANDARD_SAM_SETTING)\n",
    "settings.cancel_system_stress = True\n",
    "\n",
    "main_fit, stress_fit, sam_sur, sam_stress, additional_stress = sam_prediction(\n",
    "    data.main_series, series, data.meta, hormesis_index=3, settings=settings\n",
    ")\n",
    "\n",
    "\n",
    "lcs = get_sam_lcs(stress_fit=stress_fit, sam_sur=sam_sur, meta=data.meta)\n",
    "\n",
    "fig = plot_sam_prediction(\n",
    "    main_fit,\n",
    "    stress_fit,\n",
    "    sam_sur,\n",
    "    sam_stress,\n",
    "    survival_max=data.meta.max_survival,\n",
    "    lcs=lcs,\n",
    "    title=title,\n",
    ")\n",
    "if new:\n",
    "    fig.axes[-1].plot(\n",
    "        main_fit.concentrations, main_fit.pred_system_stress, label=\"system\"\n",
    "    )\n",
    "    fig.axes[-1].legend()"
   ]
  },
  {
   "cell_type": "code",
   "execution_count": null,
   "metadata": {},
   "outputs": [],
   "source": []
  }
 ],
 "metadata": {
  "kernelspec": {
   "display_name": "sam",
   "language": "python",
   "name": "python3"
  },
  "language_info": {
   "codemirror_mode": {
    "name": "ipython",
    "version": 3
   },
   "file_extension": ".py",
   "mimetype": "text/x-python",
   "name": "python",
   "nbconvert_exporter": "python",
   "pygments_lexer": "ipython3",
   "version": "3.12.4"
  }
 },
 "nbformat": 4,
 "nbformat_minor": 2
}
