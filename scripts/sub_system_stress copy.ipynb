{
 "cells": [
  {
   "cell_type": "code",
   "execution_count": 6,
   "metadata": {},
   "outputs": [],
   "source": [
    "from sam.stress_addition_model import OLD_STANDARD, sam_prediction\n",
    "from sam.stress_addition_model import (\n",
    "    sam_prediction,\n",
    "    get_sam_lcs,\n",
    "    OLD_STANDARD\n",
    ")\n",
    "from sam import chdir_to_repopath\n",
    "chdir_to_repopath()\n",
    "from sam.plotting import plot_sam_prediction\n",
    "from sam.data_formats import load_datapoints\n",
    "import os\n",
    "import matplotlib.pyplot as plt\n",
    "import pandas as pd\n",
    "import argparse\n",
    "from tqdm import tqdm\n",
    "from copy import deepcopy\n",
    "from sam.data_formats import read_data\n",
    "from sam.helpers import pad_c0\n",
    "from pathlib import Path\n",
    "from sklearn.metrics import mean_squared_error"
   ]
  },
  {
   "cell_type": "code",
   "execution_count": null,
   "metadata": {},
   "outputs": [
    {
     "name": "stderr",
     "output_type": "stream",
     "text": [
      "/home/felix/Desktop/sam/src/sam/stress_addition_model.py:107: UserWarning: could not find hormesis index, detecting it to be 1\n",
      "  warn(f\"could not find hormesis index, detecting it to be {hormesis_index}\")\n",
      "/home/felix/Desktop/sam/src/sam/stress_addition_model.py:107: UserWarning: could not find hormesis index, detecting it to be 1\n",
      "  warn(f\"could not find hormesis index, detecting it to be {hormesis_index}\")\n",
      "/home/felix/Desktop/sam/src/sam/stress_addition_model.py:107: UserWarning: could not find hormesis index, detecting it to be None\n",
      "  warn(f\"could not find hormesis index, detecting it to be {hormesis_index}\")\n"
     ]
    },
    {
     "name": "stdout",
     "output_type": "stream",
     "text": [
      "Cant detect hormesis!\n"
     ]
    },
    {
     "name": "stderr",
     "output_type": "stream",
     "text": [
      "/home/felix/Desktop/sam/src/sam/stress_addition_model.py:107: UserWarning: could not find hormesis index, detecting it to be None\n",
      "  warn(f\"could not find hormesis index, detecting it to be {hormesis_index}\")\n"
     ]
    },
    {
     "name": "stdout",
     "output_type": "stream",
     "text": [
      "Cant detect hormesis!\n"
     ]
    },
    {
     "name": "stderr",
     "output_type": "stream",
     "text": [
      "/home/felix/Desktop/sam/src/sam/stress_addition_model.py:107: UserWarning: could not find hormesis index, detecting it to be 1\n",
      "  warn(f\"could not find hormesis index, detecting it to be {hormesis_index}\")\n",
      "/home/felix/Desktop/sam/src/sam/stress_addition_model.py:107: UserWarning: could not find hormesis index, detecting it to be 1\n",
      "  warn(f\"could not find hormesis index, detecting it to be {hormesis_index}\")\n",
      "/home/felix/Desktop/sam/src/sam/stress_addition_model.py:107: UserWarning: could not find hormesis index, detecting it to be 1\n",
      "  warn(f\"could not find hormesis index, detecting it to be {hormesis_index}\")\n",
      "/home/felix/Desktop/sam/src/sam/stress_addition_model.py:107: UserWarning: could not find hormesis index, detecting it to be 1\n",
      "  warn(f\"could not find hormesis index, detecting it to be {hormesis_index}\")\n",
      "/home/felix/Desktop/sam/src/sam/stress_addition_model.py:107: UserWarning: could not find hormesis index, detecting it to be 5\n",
      "  warn(f\"could not find hormesis index, detecting it to be {hormesis_index}\")\n",
      "/home/felix/Desktop/sam/src/sam/stress_addition_model.py:107: UserWarning: could not find hormesis index, detecting it to be 5\n",
      "  warn(f\"could not find hormesis index, detecting it to be {hormesis_index}\")\n",
      "/home/felix/Desktop/sam/src/sam/stress_addition_model.py:107: UserWarning: could not find hormesis index, detecting it to be 5\n",
      "  warn(f\"could not find hormesis index, detecting it to be {hormesis_index}\")\n",
      "/home/felix/Desktop/sam/src/sam/stress_addition_model.py:107: UserWarning: could not find hormesis index, detecting it to be 5\n",
      "  warn(f\"could not find hormesis index, detecting it to be {hormesis_index}\")\n",
      "/home/felix/Desktop/sam/src/sam/stress_addition_model.py:107: UserWarning: could not find hormesis index, detecting it to be 5\n",
      "  warn(f\"could not find hormesis index, detecting it to be {hormesis_index}\")\n",
      "/home/felix/Desktop/sam/src/sam/stress_addition_model.py:107: UserWarning: could not find hormesis index, detecting it to be 5\n",
      "  warn(f\"could not find hormesis index, detecting it to be {hormesis_index}\")\n",
      "/home/felix/Desktop/sam/src/sam/stress_addition_model.py:107: UserWarning: could not find hormesis index, detecting it to be 4\n",
      "  warn(f\"could not find hormesis index, detecting it to be {hormesis_index}\")\n",
      "/home/felix/Desktop/sam/src/sam/stress_addition_model.py:107: UserWarning: could not find hormesis index, detecting it to be 4\n",
      "  warn(f\"could not find hormesis index, detecting it to be {hormesis_index}\")\n",
      "/home/felix/Desktop/sam/src/sam/stress_addition_model.py:107: UserWarning: could not find hormesis index, detecting it to be 4\n",
      "  warn(f\"could not find hormesis index, detecting it to be {hormesis_index}\")\n",
      "/home/felix/Desktop/sam/src/sam/stress_addition_model.py:107: UserWarning: could not find hormesis index, detecting it to be 3\n",
      "  warn(f\"could not find hormesis index, detecting it to be {hormesis_index}\")\n",
      "/home/felix/Desktop/sam/src/sam/stress_addition_model.py:107: UserWarning: could not find hormesis index, detecting it to be 3\n",
      "  warn(f\"could not find hormesis index, detecting it to be {hormesis_index}\")\n",
      "/home/felix/Desktop/sam/src/sam/stress_addition_model.py:107: UserWarning: could not find hormesis index, detecting it to be 3\n",
      "  warn(f\"could not find hormesis index, detecting it to be {hormesis_index}\")\n",
      "/home/felix/Desktop/sam/src/sam/stress_addition_model.py:107: UserWarning: could not find hormesis index, detecting it to be 3\n",
      "  warn(f\"could not find hormesis index, detecting it to be {hormesis_index}\")\n",
      "/home/felix/Desktop/sam/src/sam/stress_addition_model.py:107: UserWarning: could not find hormesis index, detecting it to be 4\n",
      "  warn(f\"could not find hormesis index, detecting it to be {hormesis_index}\")\n",
      "/home/felix/Desktop/sam/src/sam/stress_addition_model.py:107: UserWarning: could not find hormesis index, detecting it to be 4\n",
      "  warn(f\"could not find hormesis index, detecting it to be {hormesis_index}\")\n",
      "/home/felix/Desktop/sam/src/sam/stress_addition_model.py:107: UserWarning: could not find hormesis index, detecting it to be 4\n",
      "  warn(f\"could not find hormesis index, detecting it to be {hormesis_index}\")\n",
      "/home/felix/Desktop/sam/src/sam/stress_addition_model.py:107: UserWarning: could not find hormesis index, detecting it to be 4\n",
      "  warn(f\"could not find hormesis index, detecting it to be {hormesis_index}\")\n",
      "/home/felix/Desktop/sam/src/sam/stress_addition_model.py:107: UserWarning: could not find hormesis index, detecting it to be 4\n",
      "  warn(f\"could not find hormesis index, detecting it to be {hormesis_index}\")\n",
      "/home/felix/Desktop/sam/src/sam/stress_addition_model.py:107: UserWarning: could not find hormesis index, detecting it to be 4\n",
      "  warn(f\"could not find hormesis index, detecting it to be {hormesis_index}\")\n",
      "/home/felix/Desktop/sam/src/sam/stress_addition_model.py:107: UserWarning: could not find hormesis index, detecting it to be 4\n",
      "  warn(f\"could not find hormesis index, detecting it to be {hormesis_index}\")\n",
      "/home/felix/Desktop/sam/src/sam/stress_addition_model.py:107: UserWarning: could not find hormesis index, detecting it to be 4\n",
      "  warn(f\"could not find hormesis index, detecting it to be {hormesis_index}\")\n",
      "/home/felix/Desktop/sam/src/sam/stress_addition_model.py:107: UserWarning: could not find hormesis index, detecting it to be 4\n",
      "  warn(f\"could not find hormesis index, detecting it to be {hormesis_index}\")\n",
      "/home/felix/Desktop/sam/src/sam/stress_addition_model.py:107: UserWarning: could not find hormesis index, detecting it to be 1\n",
      "  warn(f\"could not find hormesis index, detecting it to be {hormesis_index}\")\n",
      "/home/felix/Desktop/sam/src/sam/stress_addition_model.py:107: UserWarning: could not find hormesis index, detecting it to be 1\n",
      "  warn(f\"could not find hormesis index, detecting it to be {hormesis_index}\")\n",
      "/home/felix/Desktop/sam/src/sam/stress_addition_model.py:107: UserWarning: could not find hormesis index, detecting it to be 1\n",
      "  warn(f\"could not find hormesis index, detecting it to be {hormesis_index}\")\n",
      "/home/felix/Desktop/sam/src/sam/stress_addition_model.py:107: UserWarning: could not find hormesis index, detecting it to be 2\n",
      "  warn(f\"could not find hormesis index, detecting it to be {hormesis_index}\")\n",
      "/home/felix/Desktop/sam/src/sam/stress_addition_model.py:107: UserWarning: could not find hormesis index, detecting it to be 2\n",
      "  warn(f\"could not find hormesis index, detecting it to be {hormesis_index}\")\n",
      "/home/felix/Desktop/sam/src/sam/stress_addition_model.py:107: UserWarning: could not find hormesis index, detecting it to be 2\n",
      "  warn(f\"could not find hormesis index, detecting it to be {hormesis_index}\")\n",
      "/home/felix/Desktop/sam/src/sam/stress_addition_model.py:107: UserWarning: could not find hormesis index, detecting it to be 4\n",
      "  warn(f\"could not find hormesis index, detecting it to be {hormesis_index}\")\n",
      "/home/felix/Desktop/sam/src/sam/stress_addition_model.py:107: UserWarning: could not find hormesis index, detecting it to be 4\n",
      "  warn(f\"could not find hormesis index, detecting it to be {hormesis_index}\")\n",
      "/home/felix/Desktop/sam/src/sam/stress_addition_model.py:107: UserWarning: could not find hormesis index, detecting it to be None\n",
      "  warn(f\"could not find hormesis index, detecting it to be {hormesis_index}\")\n"
     ]
    },
    {
     "name": "stdout",
     "output_type": "stream",
     "text": [
      "Cant detect hormesis!\n"
     ]
    },
    {
     "name": "stderr",
     "output_type": "stream",
     "text": [
      "/home/felix/Desktop/sam/src/sam/stress_addition_model.py:107: UserWarning: could not find hormesis index, detecting it to be None\n",
      "  warn(f\"could not find hormesis index, detecting it to be {hormesis_index}\")\n"
     ]
    },
    {
     "name": "stdout",
     "output_type": "stream",
     "text": [
      "Cant detect hormesis!\n"
     ]
    },
    {
     "name": "stderr",
     "output_type": "stream",
     "text": [
      "/home/felix/Desktop/sam/src/sam/stress_addition_model.py:107: UserWarning: could not find hormesis index, detecting it to be None\n",
      "  warn(f\"could not find hormesis index, detecting it to be {hormesis_index}\")\n"
     ]
    },
    {
     "name": "stdout",
     "output_type": "stream",
     "text": [
      "Cant detect hormesis!\n"
     ]
    },
    {
     "name": "stderr",
     "output_type": "stream",
     "text": [
      "/home/felix/Desktop/sam/src/sam/stress_addition_model.py:107: UserWarning: could not find hormesis index, detecting it to be None\n",
      "  warn(f\"could not find hormesis index, detecting it to be {hormesis_index}\")\n"
     ]
    },
    {
     "name": "stdout",
     "output_type": "stream",
     "text": [
      "Cant detect hormesis!\n"
     ]
    },
    {
     "name": "stderr",
     "output_type": "stream",
     "text": [
      "/home/felix/Desktop/sam/src/sam/stress_addition_model.py:107: UserWarning: could not find hormesis index, detecting it to be None\n",
      "  warn(f\"could not find hormesis index, detecting it to be {hormesis_index}\")\n"
     ]
    },
    {
     "name": "stdout",
     "output_type": "stream",
     "text": [
      "Cant detect hormesis!\n"
     ]
    },
    {
     "name": "stderr",
     "output_type": "stream",
     "text": [
      "/home/felix/Desktop/sam/src/sam/stress_addition_model.py:107: UserWarning: could not find hormesis index, detecting it to be None\n",
      "  warn(f\"could not find hormesis index, detecting it to be {hormesis_index}\")\n"
     ]
    },
    {
     "name": "stdout",
     "output_type": "stream",
     "text": [
      "Cant detect hormesis!\n"
     ]
    },
    {
     "name": "stderr",
     "output_type": "stream",
     "text": [
      "/home/felix/Desktop/sam/src/sam/stress_addition_model.py:107: UserWarning: could not find hormesis index, detecting it to be None\n",
      "  warn(f\"could not find hormesis index, detecting it to be {hormesis_index}\")\n"
     ]
    },
    {
     "name": "stdout",
     "output_type": "stream",
     "text": [
      "Cant detect hormesis!\n"
     ]
    },
    {
     "name": "stderr",
     "output_type": "stream",
     "text": [
      "/home/felix/Desktop/sam/src/sam/stress_addition_model.py:107: UserWarning: could not find hormesis index, detecting it to be None\n",
      "  warn(f\"could not find hormesis index, detecting it to be {hormesis_index}\")\n"
     ]
    },
    {
     "name": "stdout",
     "output_type": "stream",
     "text": [
      "Cant detect hormesis!\n"
     ]
    },
    {
     "name": "stderr",
     "output_type": "stream",
     "text": [
      "/home/felix/Desktop/sam/src/sam/stress_addition_model.py:107: UserWarning: could not find hormesis index, detecting it to be None\n",
      "  warn(f\"could not find hormesis index, detecting it to be {hormesis_index}\")\n"
     ]
    },
    {
     "name": "stdout",
     "output_type": "stream",
     "text": [
      "Cant detect hormesis!\n"
     ]
    },
    {
     "name": "stderr",
     "output_type": "stream",
     "text": [
      "/home/felix/Desktop/sam/src/sam/stress_addition_model.py:107: UserWarning: could not find hormesis index, detecting it to be None\n",
      "  warn(f\"could not find hormesis index, detecting it to be {hormesis_index}\")\n"
     ]
    },
    {
     "name": "stdout",
     "output_type": "stream",
     "text": [
      "Cant detect hormesis!\n"
     ]
    },
    {
     "name": "stderr",
     "output_type": "stream",
     "text": [
      "/home/felix/Desktop/sam/src/sam/stress_addition_model.py:107: UserWarning: could not find hormesis index, detecting it to be None\n",
      "  warn(f\"could not find hormesis index, detecting it to be {hormesis_index}\")\n"
     ]
    },
    {
     "name": "stdout",
     "output_type": "stream",
     "text": [
      "Cant detect hormesis!\n"
     ]
    },
    {
     "name": "stderr",
     "output_type": "stream",
     "text": [
      "/home/felix/Desktop/sam/src/sam/stress_addition_model.py:107: UserWarning: could not find hormesis index, detecting it to be None\n",
      "  warn(f\"could not find hormesis index, detecting it to be {hormesis_index}\")\n"
     ]
    },
    {
     "name": "stdout",
     "output_type": "stream",
     "text": [
      "Cant detect hormesis!\n"
     ]
    },
    {
     "name": "stderr",
     "output_type": "stream",
     "text": [
      "/home/felix/Desktop/sam/src/sam/stress_addition_model.py:107: UserWarning: could not find hormesis index, detecting it to be None\n",
      "  warn(f\"could not find hormesis index, detecting it to be {hormesis_index}\")\n"
     ]
    },
    {
     "name": "stdout",
     "output_type": "stream",
     "text": [
      "Cant detect hormesis!\n"
     ]
    },
    {
     "name": "stderr",
     "output_type": "stream",
     "text": [
      "/home/felix/Desktop/sam/src/sam/stress_addition_model.py:107: UserWarning: could not find hormesis index, detecting it to be None\n",
      "  warn(f\"could not find hormesis index, detecting it to be {hormesis_index}\")\n"
     ]
    },
    {
     "name": "stdout",
     "output_type": "stream",
     "text": [
      "Cant detect hormesis!\n"
     ]
    },
    {
     "name": "stderr",
     "output_type": "stream",
     "text": [
      "/home/felix/Desktop/sam/src/sam/stress_addition_model.py:107: UserWarning: could not find hormesis index, detecting it to be 5\n",
      "  warn(f\"could not find hormesis index, detecting it to be {hormesis_index}\")\n",
      "/home/felix/Desktop/sam/src/sam/system_stress.py:28: UserWarning: Weibull 2-param fit failed wiht Optimal parameters not found: The maximum number of function evaluations is exceeded., defaulting to linear regression\n",
      "  warn(f\"Weibull 2-param fit failed wiht {e}, defaulting to linear regression\")\n"
     ]
    },
    {
     "name": "stdout",
     "output_type": "stream",
     "text": [
      "cannot unpack non-iterable function object\n"
     ]
    },
    {
     "name": "stderr",
     "output_type": "stream",
     "text": [
      "/home/felix/Desktop/sam/src/sam/stress_addition_model.py:107: UserWarning: could not find hormesis index, detecting it to be 2\n",
      "  warn(f\"could not find hormesis index, detecting it to be {hormesis_index}\")\n",
      "/home/felix/Desktop/sam/src/sam/stress_addition_model.py:107: UserWarning: could not find hormesis index, detecting it to be 2\n",
      "  warn(f\"could not find hormesis index, detecting it to be {hormesis_index}\")\n",
      "/home/felix/Desktop/sam/src/sam/stress_addition_model.py:107: UserWarning: could not find hormesis index, detecting it to be 2\n",
      "  warn(f\"could not find hormesis index, detecting it to be {hormesis_index}\")\n",
      "/home/felix/Desktop/sam/src/sam/stress_addition_model.py:107: UserWarning: could not find hormesis index, detecting it to be 2\n",
      "  warn(f\"could not find hormesis index, detecting it to be {hormesis_index}\")\n",
      "/home/felix/Desktop/sam/src/sam/stress_addition_model.py:107: UserWarning: could not find hormesis index, detecting it to be 2\n",
      "  warn(f\"could not find hormesis index, detecting it to be {hormesis_index}\")\n",
      "/home/felix/Desktop/sam/src/sam/stress_addition_model.py:107: UserWarning: could not find hormesis index, detecting it to be 2\n",
      "  warn(f\"could not find hormesis index, detecting it to be {hormesis_index}\")\n",
      "/home/felix/Desktop/sam/src/sam/stress_addition_model.py:107: UserWarning: could not find hormesis index, detecting it to be 2\n",
      "  warn(f\"could not find hormesis index, detecting it to be {hormesis_index}\")\n",
      "/home/felix/Desktop/sam/src/sam/stress_addition_model.py:107: UserWarning: could not find hormesis index, detecting it to be 2\n",
      "  warn(f\"could not find hormesis index, detecting it to be {hormesis_index}\")\n",
      "/home/felix/Desktop/sam/src/sam/stress_addition_model.py:107: UserWarning: could not find hormesis index, detecting it to be 4\n",
      "  warn(f\"could not find hormesis index, detecting it to be {hormesis_index}\")\n",
      "/home/felix/Desktop/sam/src/sam/system_stress.py:42: UserWarning: Weibull 3-param fit with Optimal parameters not found: The maximum number of function evaluations is exceeded., defaulting to linear regression\n",
      "  warn(f\"Weibull 3-param fit with {e}, defaulting to linear regression\")\n",
      "/home/felix/Desktop/sam/src/sam/stress_addition_model.py:107: UserWarning: could not find hormesis index, detecting it to be 4\n",
      "  warn(f\"could not find hormesis index, detecting it to be {hormesis_index}\")\n",
      "/home/felix/Desktop/sam/src/sam/system_stress.py:42: UserWarning: Weibull 3-param fit with Optimal parameters not found: The maximum number of function evaluations is exceeded., defaulting to linear regression\n",
      "  warn(f\"Weibull 3-param fit with {e}, defaulting to linear regression\")\n",
      "/home/felix/Desktop/sam/src/sam/stress_addition_model.py:107: UserWarning: could not find hormesis index, detecting it to be 4\n",
      "  warn(f\"could not find hormesis index, detecting it to be {hormesis_index}\")\n",
      "/home/felix/Desktop/sam/src/sam/system_stress.py:42: UserWarning: Weibull 3-param fit with Optimal parameters not found: The maximum number of function evaluations is exceeded., defaulting to linear regression\n",
      "  warn(f\"Weibull 3-param fit with {e}, defaulting to linear regression\")\n",
      "/home/felix/Desktop/sam/src/sam/stress_addition_model.py:107: UserWarning: could not find hormesis index, detecting it to be 4\n",
      "  warn(f\"could not find hormesis index, detecting it to be {hormesis_index}\")\n",
      "/home/felix/Desktop/sam/src/sam/system_stress.py:42: UserWarning: Weibull 3-param fit with Optimal parameters not found: The maximum number of function evaluations is exceeded., defaulting to linear regression\n",
      "  warn(f\"Weibull 3-param fit with {e}, defaulting to linear regression\")\n",
      "/home/felix/Desktop/sam/src/sam/stress_addition_model.py:107: UserWarning: could not find hormesis index, detecting it to be 4\n",
      "  warn(f\"could not find hormesis index, detecting it to be {hormesis_index}\")\n",
      "/home/felix/Desktop/sam/src/sam/system_stress.py:42: UserWarning: Weibull 3-param fit with Optimal parameters not found: The maximum number of function evaluations is exceeded., defaulting to linear regression\n",
      "  warn(f\"Weibull 3-param fit with {e}, defaulting to linear regression\")\n",
      "/home/felix/Desktop/sam/src/sam/stress_addition_model.py:107: UserWarning: could not find hormesis index, detecting it to be 4\n",
      "  warn(f\"could not find hormesis index, detecting it to be {hormesis_index}\")\n",
      "/home/felix/Desktop/sam/src/sam/system_stress.py:42: UserWarning: Weibull 3-param fit with Optimal parameters not found: The maximum number of function evaluations is exceeded., defaulting to linear regression\n",
      "  warn(f\"Weibull 3-param fit with {e}, defaulting to linear regression\")\n",
      "/home/felix/Desktop/sam/src/sam/stress_addition_model.py:107: UserWarning: could not find hormesis index, detecting it to be 4\n",
      "  warn(f\"could not find hormesis index, detecting it to be {hormesis_index}\")\n",
      "/home/felix/Desktop/sam/src/sam/system_stress.py:42: UserWarning: Weibull 3-param fit with Optimal parameters not found: The maximum number of function evaluations is exceeded., defaulting to linear regression\n",
      "  warn(f\"Weibull 3-param fit with {e}, defaulting to linear regression\")\n",
      "/home/felix/Desktop/sam/src/sam/stress_addition_model.py:107: UserWarning: could not find hormesis index, detecting it to be 4\n",
      "  warn(f\"could not find hormesis index, detecting it to be {hormesis_index}\")\n",
      "/home/felix/Desktop/sam/src/sam/system_stress.py:42: UserWarning: Weibull 3-param fit with Optimal parameters not found: The maximum number of function evaluations is exceeded., defaulting to linear regression\n",
      "  warn(f\"Weibull 3-param fit with {e}, defaulting to linear regression\")\n"
     ]
    },
    {
     "data": {
      "text/plain": [
       "12"
      ]
     },
     "execution_count": 7,
     "metadata": {},
     "output_type": "execute_result"
    }
   ],
   "source": [
    "def get_mses(data, val, cancel_system_stress):\n",
    "    settings = deepcopy(OLD_STANDARD)\n",
    "    settings.cancel_system_stress = cancel_system_stress\n",
    "    \n",
    "    main_fit, stress_fit, sam_sur, sam_stress, additional_stress = sam_prediction(\n",
    "    data.main_series,\n",
    "    val,\n",
    "    data.meta,\n",
    "    settings=settings,\n",
    "    )\n",
    "    lcs =get_sam_lcs(stress_fit=stress_fit, sam_sur=sam_sur, meta=data.meta)\n",
    "    \n",
    "    return mean_squared_error(stress_fit.survival_curve, sam_sur), mean_squared_error((lcs.sam_lc10,), (lcs.stress_lc10,)), mean_squared_error((lcs.sam_lc50,), (lcs.stress_lc50,))\n",
    "\n",
    "\n",
    "interesting = []\n",
    "for path, data, stress_name, stress_series in load_datapoints():\n",
    "    \n",
    "    try:\n",
    "        old = get_mses(data, stress_series, False)\n",
    "        new = get_mses(data, stress_series, True)\n",
    "        \n",
    "        if any([n < o for n,o in zip(new,old)]):\n",
    "            interesting.append((path, data, stress_name, stress_series))\n",
    "    except Exception as e:\n",
    "        print(e)\n",
    "len(interesting)"
   ]
  },
  {
   "cell_type": "code",
   "execution_count": 8,
   "metadata": {},
   "outputs": [],
   "source": [
    "def pred_exp(data, val, new = False, hormesis_index = None, title = None):\n",
    "    \n",
    "    settings = deepcopy(OLD_STANDARD)\n",
    "    settings.cancel_system_stress = new\n",
    "    \n",
    "    \n",
    "    data.meta.hormesis_index = hormesis_index\n",
    "    \n",
    "    main_fit, stress_fit, sam_sur, sam_stress, additional_stress = sam_prediction(\n",
    "        data.main_series,\n",
    "        val,\n",
    "        data.meta,\n",
    "        settings=settings,\n",
    "    )\n",
    "\n",
    "    lcs = get_sam_lcs(stress_fit=stress_fit, sam_sur=sam_sur, meta=data.meta)\n",
    "\n",
    "    fig = plot_sam_prediction(\n",
    "        main_fit,\n",
    "        stress_fit,\n",
    "        sam_sur,\n",
    "        sam_stress,\n",
    "        survival_max=data.meta.max_survival,\n",
    "        lcs=lcs,\n",
    "        title=title,\n",
    "    )\n",
    "    if new:\n",
    "        fig.axes[-1].plot(main_fit.concentration_curve, main_fit.pred_system_stress, label = \"system\")\n",
    "        fig.axes[-1].legend()\n",
    "    return fig"
   ]
  },
  {
   "cell_type": "code",
   "execution_count": 9,
   "metadata": {},
   "outputs": [
    {
     "name": "stderr",
     "output_type": "stream",
     "text": [
      "/home/felix/Desktop/sam/src/sam/stress_addition_model.py:107: UserWarning: could not find hormesis index, detecting it to be 1\n",
      "  warn(f\"could not find hormesis index, detecting it to be {hormesis_index}\")\n",
      "/home/felix/Desktop/sam/src/sam/stress_addition_model.py:107: UserWarning: could not find hormesis index, detecting it to be 4\n",
      "  warn(f\"could not find hormesis index, detecting it to be {hormesis_index}\")\n",
      "/home/felix/Desktop/sam/src/sam/stress_addition_model.py:107: UserWarning: could not find hormesis index, detecting it to be 3\n",
      "  warn(f\"could not find hormesis index, detecting it to be {hormesis_index}\")\n",
      "/home/felix/Desktop/sam/src/sam/stress_addition_model.py:107: UserWarning: could not find hormesis index, detecting it to be 2\n",
      "  warn(f\"could not find hormesis index, detecting it to be {hormesis_index}\")\n",
      "/home/felix/Desktop/sam/src/sam/system_stress.py:42: UserWarning: Weibull 3-param fit with Optimal parameters not found: The maximum number of function evaluations is exceeded., defaulting to linear regression\n",
      "  warn(f\"Weibull 3-param fit with {e}, defaulting to linear regression\")\n",
      "/home/felix/Desktop/sam/src/sam/stress_addition_model.py:107: UserWarning: could not find hormesis index, detecting it to be 4\n",
      "  warn(f\"could not find hormesis index, detecting it to be {hormesis_index}\")\n",
      "/home/felix/Desktop/sam/src/sam/system_stress.py:42: UserWarning: Weibull 3-param fit with Optimal parameters not found: The maximum number of function evaluations is exceeded., defaulting to linear regression\n",
      "  warn(f\"Weibull 3-param fit with {e}, defaulting to linear regression\")\n"
     ]
    }
   ],
   "source": [
    "s = Path(\"control_imgs/sub_interesting\")\n",
    "\n",
    "for path, data, stress_name, stress_series in interesting:\n",
    "    \n",
    "    old = pred_exp(data, stress_series, False)\n",
    "    old.savefig(s / f\"{data.meta.title}_normal.png\")\n",
    "    plt.close(old)\n",
    "    \n",
    "    new = pred_exp(data, stress_series, True)\n",
    "    new.savefig(s / f\"{data.meta.title}_without_sys.png\")\n",
    "    plt.close(new)\n",
    "    \n",
    "    "
   ]
  },
  {
   "cell_type": "code",
   "execution_count": null,
   "metadata": {},
   "outputs": [],
   "source": []
  }
 ],
 "metadata": {
  "kernelspec": {
   "display_name": "sam",
   "language": "python",
   "name": "python3"
  },
  "language_info": {
   "codemirror_mode": {
    "name": "ipython",
    "version": 3
   },
   "file_extension": ".py",
   "mimetype": "text/x-python",
   "name": "python",
   "nbconvert_exporter": "python",
   "pygments_lexer": "ipython3",
   "version": "3.12.4"
  }
 },
 "nbformat": 4,
 "nbformat_minor": 2
}
