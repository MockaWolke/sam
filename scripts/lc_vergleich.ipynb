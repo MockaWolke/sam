{
 "cells": [
  {
   "cell_type": "code",
   "execution_count": 45,
   "metadata": {},
   "outputs": [],
   "source": [
    "import glob\n",
    "from sam.stress_addition_model import (\n",
    "    sam_prediction,\n",
    "    Predicted_LCs,\n",
    "    get_sam_lcs,\n",
    "    SAM_Setting,\n",
    "    OLD_STANDARD,\n",
    "    Transforms\n",
    ")\n",
    "from sam.helpers import compute_lc, find_lc_99_max, compute_lc_from_curve\n",
    "from sam.plotting import plot_sam_prediction\n",
    "from sam.data_formats import ExperimentData, read_data, load_datapoints\n",
    "import os\n",
    "import matplotlib.pyplot as plt\n",
    "import pandas as pd\n",
    "import argparse\n",
    "from tqdm import tqdm\n",
    "from sklearn.metrics import mean_squared_error, mean_absolute_error\n",
    "import numpy as np"
   ]
  },
  {
   "cell_type": "code",
   "execution_count": 46,
   "metadata": {},
   "outputs": [
    {
     "name": "stderr",
     "output_type": "stream",
     "text": [
      "  0%|          | 0/47 [00:00<?, ?it/s]"
     ]
    },
    {
     "name": "stderr",
     "output_type": "stream",
     "text": [
      "100%|██████████| 47/47 [00:08<00:00,  5.63it/s]\n"
     ]
    }
   ],
   "source": [
    "SETTINGS = OLD_STANDARD\n",
    "\n",
    "\n",
    "rows = []\n",
    "\n",
    "for path, data, name, val in tqdm(load_datapoints()):\n",
    "\n",
    "    main_fit, stress_fit, sam_sur, sam_stress, additional_stress = sam_prediction(\n",
    "        data.main_series,\n",
    "        val,\n",
    "        data.meta,\n",
    "        settings=SETTINGS,\n",
    "    )\n",
    "\n",
    "    lcs = get_sam_lcs(stress_fit=stress_fit, sam_sur=sam_sur, meta=data.meta)\n",
    "\n",
    "    row = {\n",
    "        \"path\": path,\n",
    "        \"stressor\": name,\n",
    "        \"stress_lc10\": lcs.stress_lc10,\n",
    "        \"stress_lc50\": lcs.stress_lc50,\n",
    "        \"sam_lc10\": lcs.sam_lc10,\n",
    "        \"sam_lc50\": lcs.sam_lc50,\n",
    "        \"survival_max\": data.meta.max_survival,\n",
    "        \"lc1\":main_fit.lc1,\n",
    "        \"lc99\":main_fit.lc99,\n",
    "    }\n",
    "\n",
    "    rows.append(row)\n",
    "\n",
    "df = pd.DataFrame(rows)\n"
   ]
  },
  {
   "cell_type": "code",
   "execution_count": 47,
   "metadata": {},
   "outputs": [
    {
     "data": {
      "text/html": [
       "<div>\n",
       "<style scoped>\n",
       "    .dataframe tbody tr th:only-of-type {\n",
       "        vertical-align: middle;\n",
       "    }\n",
       "\n",
       "    .dataframe tbody tr th {\n",
       "        vertical-align: top;\n",
       "    }\n",
       "\n",
       "    .dataframe thead th {\n",
       "        text-align: right;\n",
       "    }\n",
       "</style>\n",
       "<table border=\"1\" class=\"dataframe\">\n",
       "  <thead>\n",
       "    <tr style=\"text-align: right;\">\n",
       "      <th></th>\n",
       "      <th>stress_lc10</th>\n",
       "      <th>stress_lc50</th>\n",
       "      <th>sam_lc10</th>\n",
       "      <th>sam_lc50</th>\n",
       "    </tr>\n",
       "  </thead>\n",
       "  <tbody>\n",
       "    <tr>\n",
       "      <th>count</th>\n",
       "      <td>23.000000</td>\n",
       "      <td>4.200000e+01</td>\n",
       "      <td>23.000000</td>\n",
       "      <td>4.200000e+01</td>\n",
       "    </tr>\n",
       "    <tr>\n",
       "      <th>mean</th>\n",
       "      <td>0.010363</td>\n",
       "      <td>4.551861e-02</td>\n",
       "      <td>0.004563</td>\n",
       "      <td>3.616506e-02</td>\n",
       "    </tr>\n",
       "    <tr>\n",
       "      <th>std</th>\n",
       "      <td>0.030241</td>\n",
       "      <td>7.129020e-02</td>\n",
       "      <td>0.013175</td>\n",
       "      <td>6.040465e-02</td>\n",
       "    </tr>\n",
       "    <tr>\n",
       "      <th>min</th>\n",
       "      <td>0.000000</td>\n",
       "      <td>9.465349e-08</td>\n",
       "      <td>0.000000</td>\n",
       "      <td>1.108104e-07</td>\n",
       "    </tr>\n",
       "    <tr>\n",
       "      <th>25%</th>\n",
       "      <td>0.000932</td>\n",
       "      <td>5.201214e-03</td>\n",
       "      <td>0.000000</td>\n",
       "      <td>3.627089e-03</td>\n",
       "    </tr>\n",
       "    <tr>\n",
       "      <th>50%</th>\n",
       "      <td>0.002438</td>\n",
       "      <td>1.947188e-02</td>\n",
       "      <td>0.000000</td>\n",
       "      <td>1.708471e-02</td>\n",
       "    </tr>\n",
       "    <tr>\n",
       "      <th>75%</th>\n",
       "      <td>0.007665</td>\n",
       "      <td>5.507705e-02</td>\n",
       "      <td>0.000486</td>\n",
       "      <td>4.547671e-02</td>\n",
       "    </tr>\n",
       "    <tr>\n",
       "      <th>max</th>\n",
       "      <td>0.146998</td>\n",
       "      <td>4.123040e-01</td>\n",
       "      <td>0.057608</td>\n",
       "      <td>3.452742e-01</td>\n",
       "    </tr>\n",
       "  </tbody>\n",
       "</table>\n",
       "</div>"
      ],
      "text/plain": [
       "       stress_lc10   stress_lc50   sam_lc10      sam_lc50\n",
       "count    23.000000  4.200000e+01  23.000000  4.200000e+01\n",
       "mean      0.010363  4.551861e-02   0.004563  3.616506e-02\n",
       "std       0.030241  7.129020e-02   0.013175  6.040465e-02\n",
       "min       0.000000  9.465349e-08   0.000000  1.108104e-07\n",
       "25%       0.000932  5.201214e-03   0.000000  3.627089e-03\n",
       "50%       0.002438  1.947188e-02   0.000000  1.708471e-02\n",
       "75%       0.007665  5.507705e-02   0.000486  4.547671e-02\n",
       "max       0.146998  4.123040e-01   0.057608  3.452742e-01"
      ]
     },
     "execution_count": 47,
     "metadata": {},
     "output_type": "execute_result"
    }
   ],
   "source": [
    "df.lc1 = df.lc1.fillna(0)\n",
    "normed = df.copy()\n",
    "cols = [\"stress_lc10\", \"stress_lc50\", \"sam_lc10\", \"sam_lc50\"]\n",
    "normed[cols] -= df.lc1.values[:,None]\n",
    "normed[cols] = np.maximum(0,normed[cols])\n",
    "normed[cols] /= (df.lc99.values[:,None] - df.lc1.values[:,None])\n",
    "normed[cols].describe()"
   ]
  },
  {
   "cell_type": "code",
   "execution_count": 48,
   "metadata": {},
   "outputs": [
    {
     "data": {
      "text/plain": [
       "(0.0006278829503431632, 0.014733547502801253)"
      ]
     },
     "execution_count": 48,
     "metadata": {},
     "output_type": "execute_result"
    }
   ],
   "source": [
    "fifty = normed.dropna(subset=[\"stress_lc50\"])\n",
    "mean_squared_error(fifty.stress_lc50, fifty.sam_lc50), mean_absolute_error(fifty.stress_lc50, fifty.sam_lc50)"
   ]
  },
  {
   "cell_type": "code",
   "execution_count": 49,
   "metadata": {},
   "outputs": [
    {
     "data": {
      "text/plain": [
       "(0.0003714926038351805, 0.0070181567722982854)"
      ]
     },
     "execution_count": 49,
     "metadata": {},
     "output_type": "execute_result"
    }
   ],
   "source": [
    "ten = normed.dropna(subset=[\"stress_lc10\"])\n",
    "mean_squared_error(ten.stress_lc10, ten.sam_lc10), mean_absolute_error(ten.stress_lc10, ten.sam_lc10)"
   ]
  },
  {
   "cell_type": "code",
   "execution_count": null,
   "metadata": {},
   "outputs": [],
   "source": []
  },
  {
   "cell_type": "code",
   "execution_count": null,
   "metadata": {},
   "outputs": [],
   "source": []
  }
 ],
 "metadata": {
  "kernelspec": {
   "display_name": "sam",
   "language": "python",
   "name": "python3"
  },
  "language_info": {
   "codemirror_mode": {
    "name": "ipython",
    "version": 3
   },
   "file_extension": ".py",
   "mimetype": "text/x-python",
   "name": "python",
   "nbconvert_exporter": "python",
   "pygments_lexer": "ipython3",
   "version": "3.12.4"
  }
 },
 "nbformat": 4,
 "nbformat_minor": 2
}
