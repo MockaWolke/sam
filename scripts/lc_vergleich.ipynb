{
 "cells": [
  {
   "cell_type": "code",
   "execution_count": 10,
   "metadata": {},
   "outputs": [],
   "source": [
    "import glob\n",
    "from sam.stress_addition_model import (\n",
    "    sam_prediction,\n",
    "    Predicted_LCs,\n",
    "    get_sam_lcs,\n",
    "    SAM_Setting,\n",
    "    OLD_STANDARD,\n",
    "    Transforms\n",
    ")\n",
    "from sam.helpers import compute_lc, compute_lc_from_curve\n",
    "from sam.plotting import plot_sam_prediction\n",
    "from sam.data_formats import ExperimentData, read_data, load_datapoints\n",
    "import os\n",
    "import matplotlib.pyplot as plt\n",
    "import pandas as pd\n",
    "import argparse\n",
    "from tqdm import tqdm\n",
    "from sklearn.metrics import mean_squared_error, mean_absolute_error, r2_score\n",
    "import numpy as np"
   ]
  },
  {
   "cell_type": "code",
   "execution_count": 4,
   "metadata": {},
   "outputs": [
    {
     "name": "stderr",
     "output_type": "stream",
     "text": [
      "100%|██████████| 47/47 [00:08<00:00,  5.58it/s]\n"
     ]
    }
   ],
   "source": [
    "SETTINGS = OLD_STANDARD\n",
    "\n",
    "\n",
    "rows = []\n",
    "\n",
    "for path, data, name, val in tqdm(load_datapoints()):\n",
    "\n",
    "    main_fit, stress_fit, sam_sur, sam_stress, additional_stress = sam_prediction(\n",
    "        data.main_series,\n",
    "        val,\n",
    "        data.meta,\n",
    "        settings=SETTINGS,\n",
    "    )\n",
    "\n",
    "    lcs = get_sam_lcs(stress_fit=stress_fit, sam_sur=sam_sur, meta=data.meta)\n",
    "\n",
    "    row = {\n",
    "        \"path\": path,\n",
    "        \"stressor\": name,\n",
    "        \"stress_lc10\": lcs.stress_lc10,\n",
    "        \"stress_lc50\": lcs.stress_lc50,\n",
    "        \"sam_lc10\": lcs.sam_lc10,\n",
    "        \"sam_lc50\": lcs.sam_lc50,\n",
    "        \"survival_max\": data.meta.max_survival,\n",
    "        \"lc1\":main_fit.lc1,\n",
    "        \"lc99\":main_fit.lc99,\n",
    "    }\n",
    "\n",
    "    rows.append(row)\n",
    "\n",
    "df = pd.DataFrame(rows)\n"
   ]
  },
  {
   "cell_type": "code",
   "execution_count": 6,
   "metadata": {},
   "outputs": [
    {
     "data": {
      "text/plain": [
       "path            0\n",
       "stressor        0\n",
       "stress_lc10     0\n",
       "stress_lc50     0\n",
       "sam_lc10        0\n",
       "sam_lc50        0\n",
       "survival_max    0\n",
       "lc1             0\n",
       "lc99            0\n",
       "dtype: int64"
      ]
     },
     "execution_count": 6,
     "metadata": {},
     "output_type": "execute_result"
    }
   ],
   "source": [
    "df.isna().sum()"
   ]
  },
  {
   "cell_type": "code",
   "execution_count": 7,
   "metadata": {},
   "outputs": [
    {
     "data": {
      "text/html": [
       "<div>\n",
       "<style scoped>\n",
       "    .dataframe tbody tr th:only-of-type {\n",
       "        vertical-align: middle;\n",
       "    }\n",
       "\n",
       "    .dataframe tbody tr th {\n",
       "        vertical-align: top;\n",
       "    }\n",
       "\n",
       "    .dataframe thead th {\n",
       "        text-align: right;\n",
       "    }\n",
       "</style>\n",
       "<table border=\"1\" class=\"dataframe\">\n",
       "  <thead>\n",
       "    <tr style=\"text-align: right;\">\n",
       "      <th></th>\n",
       "      <th>stress_lc10</th>\n",
       "      <th>stress_lc50</th>\n",
       "      <th>sam_lc10</th>\n",
       "      <th>sam_lc50</th>\n",
       "    </tr>\n",
       "  </thead>\n",
       "  <tbody>\n",
       "    <tr>\n",
       "      <th>count</th>\n",
       "      <td>47.000000</td>\n",
       "      <td>47.000000</td>\n",
       "      <td>47.000000</td>\n",
       "      <td>47.000000</td>\n",
       "    </tr>\n",
       "    <tr>\n",
       "      <th>mean</th>\n",
       "      <td>0.006685</td>\n",
       "      <td>0.045231</td>\n",
       "      <td>0.001593</td>\n",
       "      <td>0.034377</td>\n",
       "    </tr>\n",
       "    <tr>\n",
       "      <th>std</th>\n",
       "      <td>0.015372</td>\n",
       "      <td>0.059702</td>\n",
       "      <td>0.004857</td>\n",
       "      <td>0.047418</td>\n",
       "    </tr>\n",
       "    <tr>\n",
       "      <th>min</th>\n",
       "      <td>0.000000</td>\n",
       "      <td>0.000000</td>\n",
       "      <td>0.000000</td>\n",
       "      <td>0.000196</td>\n",
       "    </tr>\n",
       "    <tr>\n",
       "      <th>25%</th>\n",
       "      <td>0.000000</td>\n",
       "      <td>0.006061</td>\n",
       "      <td>0.000000</td>\n",
       "      <td>0.005950</td>\n",
       "    </tr>\n",
       "    <tr>\n",
       "      <th>50%</th>\n",
       "      <td>0.001336</td>\n",
       "      <td>0.026069</td>\n",
       "      <td>0.000000</td>\n",
       "      <td>0.016040</td>\n",
       "    </tr>\n",
       "    <tr>\n",
       "      <th>75%</th>\n",
       "      <td>0.004619</td>\n",
       "      <td>0.055585</td>\n",
       "      <td>0.000293</td>\n",
       "      <td>0.042344</td>\n",
       "    </tr>\n",
       "    <tr>\n",
       "      <th>max</th>\n",
       "      <td>0.087793</td>\n",
       "      <td>0.324615</td>\n",
       "      <td>0.022100</td>\n",
       "      <td>0.245987</td>\n",
       "    </tr>\n",
       "  </tbody>\n",
       "</table>\n",
       "</div>"
      ],
      "text/plain": [
       "       stress_lc10  stress_lc50   sam_lc10   sam_lc50\n",
       "count    47.000000    47.000000  47.000000  47.000000\n",
       "mean      0.006685     0.045231   0.001593   0.034377\n",
       "std       0.015372     0.059702   0.004857   0.047418\n",
       "min       0.000000     0.000000   0.000000   0.000196\n",
       "25%       0.000000     0.006061   0.000000   0.005950\n",
       "50%       0.001336     0.026069   0.000000   0.016040\n",
       "75%       0.004619     0.055585   0.000293   0.042344\n",
       "max       0.087793     0.324615   0.022100   0.245987"
      ]
     },
     "execution_count": 7,
     "metadata": {},
     "output_type": "execute_result"
    }
   ],
   "source": [
    "df.lc1 = df.lc1.fillna(0)\n",
    "normed = df.copy()\n",
    "cols = [\"stress_lc10\", \"stress_lc50\", \"sam_lc10\", \"sam_lc50\"]\n",
    "normed[cols] -= df.lc1.values[:,None]\n",
    "normed[cols] = np.maximum(0,normed[cols])\n",
    "normed[cols] /= (df.lc99.values[:,None] - df.lc1.values[:,None])\n",
    "normed[cols].describe()"
   ]
  },
  {
   "cell_type": "code",
   "execution_count": 11,
   "metadata": {},
   "outputs": [
    {
     "data": {
      "text/plain": [
       "(0.0007156456957927874, 0.016424423601822676, 0.7948579418253063)"
      ]
     },
     "execution_count": 11,
     "metadata": {},
     "output_type": "execute_result"
    }
   ],
   "source": [
    "fifty = normed.dropna(subset=[\"stress_lc50\"])\n",
    "mean_squared_error(fifty.stress_lc50, fifty.sam_lc50), mean_absolute_error(fifty.stress_lc50, fifty.sam_lc50), r2_score(fifty.stress_lc50, fifty.sam_lc50)"
   ]
  },
  {
   "cell_type": "code",
   "execution_count": 12,
   "metadata": {},
   "outputs": [
    {
     "data": {
      "text/plain": [
       "(0.0002398438232910721, 0.0058455356155869605, -0.037056949763056624)"
      ]
     },
     "execution_count": 12,
     "metadata": {},
     "output_type": "execute_result"
    }
   ],
   "source": [
    "ten = normed.dropna(subset=[\"stress_lc10\"])\n",
    "mean_squared_error(ten.stress_lc10, ten.sam_lc10), mean_absolute_error(ten.stress_lc10, ten.sam_lc10), r2_score(ten.stress_lc10, ten.sam_lc10)"
   ]
  },
  {
   "cell_type": "code",
   "execution_count": null,
   "metadata": {},
   "outputs": [],
   "source": []
  },
  {
   "cell_type": "code",
   "execution_count": null,
   "metadata": {},
   "outputs": [],
   "source": []
  }
 ],
 "metadata": {
  "kernelspec": {
   "display_name": "sam",
   "language": "python",
   "name": "python3"
  },
  "language_info": {
   "codemirror_mode": {
    "name": "ipython",
    "version": 3
   },
   "file_extension": ".py",
   "mimetype": "text/x-python",
   "name": "python",
   "nbconvert_exporter": "python",
   "pygments_lexer": "ipython3",
   "version": "3.12.4"
  }
 },
 "nbformat": 4,
 "nbformat_minor": 2
}
